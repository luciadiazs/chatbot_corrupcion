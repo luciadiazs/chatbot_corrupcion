{
  "cells": [
    {
      "cell_type": "code",
      "execution_count": 11,
      "metadata": {},
      "outputs": [],
      "source": [
        "import os\n",
        "import json"
      ]
    },
    {
      "cell_type": "code",
      "execution_count": 12,
      "metadata": {
        "id": "t5Kkg3iq5vz3"
      },
      "outputs": [],
      "source": [
        "def load_and_chunk_data(chunk_size=800, data_path='/raw/'):\n",
        "    \"\"\"Carga los documentos de texto y los divide en chunks.\"\"\"\n",
        "    docs_chunks = []\n",
        "    for filename in os.listdir(data_path):\n",
        "        if filename.endswith(\".txt\"):\n",
        "            filepath = os.path.join(data_path, filename)\n",
        "            try:\n",
        "                with open(filepath, 'r', encoding='utf-8') as file:\n",
        "                    text = file.read()\n",
        "                for i in range(0, len(text), chunk_size):\n",
        "                    chunk = text[i:i+chunk_size]\n",
        "                    docs_chunks.append({\"content\": chunk, \"title\": filename})\n",
        "            except Exception as e:\n",
        "                print(f\"Error processing file {filename}: {e}\")\n",
        "    return docs_chunks\n"
      ]
    },
    {
      "cell_type": "code",
      "execution_count": 13,
      "metadata": {
        "id": "QUQBXM-c5yIL"
      },
      "outputs": [],
      "source": [
        "def save_chunks_to_json(docs_chunks, output_file='./processed/docs_chunks.json'):\n",
        "    \"\"\"Guarda los chunks de documentos en un archivo JSON en Google Drive.\"\"\"\n",
        "    with open(output_file, 'w', encoding='utf-8') as f:\n",
        "        json.dump(docs_chunks, f, ensure_ascii=False, indent=4)"
      ]
    },
    {
      "cell_type": "code",
      "execution_count": 14,
      "metadata": {},
      "outputs": [],
      "source": [
        "# Uso de las funciones\n",
        "data_path = './raw/'\n",
        "docs_chunks = load_and_chunk_data(data_path=data_path)\n",
        "save_chunks_to_json(docs_chunks)"
      ]
    }
  ],
  "metadata": {
    "colab": {
      "provenance": []
    },
    "kernelspec": {
      "display_name": "base",
      "language": "python",
      "name": "python3"
    },
    "language_info": {
      "codemirror_mode": {
        "name": "ipython",
        "version": 3
      },
      "file_extension": ".py",
      "mimetype": "text/x-python",
      "name": "python",
      "nbconvert_exporter": "python",
      "pygments_lexer": "ipython3",
      "version": "3.12.3"
    }
  },
  "nbformat": 4,
  "nbformat_minor": 0
}
