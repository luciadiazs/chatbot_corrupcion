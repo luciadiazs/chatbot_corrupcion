{
 "cells": [
  {
   "cell_type": "code",
   "execution_count": 2,
   "metadata": {},
   "outputs": [],
   "source": [
    "import os\n",
    "import json"
   ]
  },
  {
   "cell_type": "code",
   "execution_count": 3,
   "metadata": {
    "id": "t5Kkg3iq5vz3"
   },
   "outputs": [
    {
     "name": "stdout",
     "output_type": "stream",
     "text": [
      "Processed 321254 chunks and saved them in './processed/processed_data.json'.\n"
     ]
    }
   ],
   "source": [
    "def load_and_chunk_data(chunk_size=800, data_path='./raw/', output_path='./processed/'):\n",
    "    \"\"\"Loads text documents from subdirectories under 'data_path', \n",
    "    splits them into chunks, and saves all chunks into a single JSON file.\"\"\"\n",
    "    \n",
    "    # Create the output directory if it doesn't exist\n",
    "    os.makedirs(output_path, exist_ok=True)\n",
    "    \n",
    "    # Define the path for the output JSON file\n",
    "    output_file_path = os.path.join(output_path, 'processed_data.json')\n",
    "    \n",
    "    docs_chunks = []\n",
    "    \n",
    "    # Recursively walk through subdirectories of data_path\n",
    "    for root, dirs, files in os.walk(data_path):\n",
    "        for filename in files:\n",
    "            if filename.endswith(\".txt\"):\n",
    "                filepath = os.path.join(root, filename)\n",
    "                try:\n",
    "                    with open(filepath, 'r', encoding='utf-8') as file:\n",
    "                        text = file.read()\n",
    "                    \n",
    "                    # Extract title from the filename (without extension)\n",
    "                    title = os.path.splitext(filename)[0]\n",
    "                    \n",
    "                    # Split the text into chunks of 'chunk_size' characters\n",
    "                    for i in range(0, len(text), chunk_size):\n",
    "                        chunk = text[i:i+chunk_size]\n",
    "                        docs_chunks.append({\n",
    "                            \"title\": title,\n",
    "                            \"chunk_index\": i // chunk_size + 1,\n",
    "                            \"content\": chunk\n",
    "                        })\n",
    "                except Exception as e:\n",
    "                    print(f\"Error processing file {filepath}: {e}\")\n",
    "    \n",
    "    # Write all chunks to a single JSON file\n",
    "    with open(output_file_path, 'w', encoding='utf-8') as out_file:\n",
    "        json.dump(docs_chunks, out_file, ensure_ascii=False, indent=4)\n",
    "    \n",
    "    return docs_chunks\n",
    "\n",
    "# Example execution\n",
    "chunks = load_and_chunk_data(chunk_size=800, data_path='./raw/', output_path='./processed/')\n",
    "print(f\"Processed {len(chunks)} chunks and saved them in './processed/processed_data.json'.\")"
   ]
  }
 ],
 "metadata": {
  "colab": {
   "provenance": []
  },
  "kernelspec": {
   "display_name": "base",
   "language": "python",
   "name": "python3"
  },
  "language_info": {
   "codemirror_mode": {
    "name": "ipython",
    "version": 3
   },
   "file_extension": ".py",
   "mimetype": "text/x-python",
   "name": "python",
   "nbconvert_exporter": "python",
   "pygments_lexer": "ipython3",
   "version": "3.12.3"
  }
 },
 "nbformat": 4,
 "nbformat_minor": 0
}
