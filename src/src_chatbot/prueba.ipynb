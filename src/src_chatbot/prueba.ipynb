{
 "cells": [
  {
   "cell_type": "code",
   "execution_count": null,
   "id": "dedf5df5",
   "metadata": {},
   "outputs": [],
   "source": [
    "import json\n",
    "import sys"
   ]
  },
  {
   "cell_type": "code",
   "execution_count": null,
   "id": "ceae2484",
   "metadata": {},
   "outputs": [],
   "source": [
    "from chatbot_logic import (\n",
    "    load_chunks_from_jsonl,\n",
    "    normalize_text,\n",
    "    extract_query_parameters,\n",
    "    find_relevant_chunks\n",
    "    # send_question_to_openai # Opcional, si quieres probarlo aquí\n",
    ")"
   ]
  },
  {
   "cell_type": "code",
   "execution_count": null,
   "id": "7636afed",
   "metadata": {},
   "outputs": [],
   "source": [
    "# Cargar los chunks una vez\n",
    "all_docs_chunks = load_chunks_from_jsonl('salida_chunks_final.jsonl') # Asegúrate que la ruta sea correcta\n",
    "print(f\"Cargados {len(all_docs_chunks)} chunks.\")\n",
    "if all_docs_chunks:\n",
    "    print(\"Ejemplo del primer chunk:\")\n",
    "    print(json.dumps(all_docs_chunks[0], indent=2, ensure_ascii=False))\n",
    "else:\n",
    "    print(\"¡No se cargaron chunks! Verifica la ruta y el archivo.\")\n"
   ]
  },
  {
   "cell_type": "code",
   "execution_count": null,
   "id": "4e4ef47a",
   "metadata": {},
   "outputs": [],
   "source": [
    "test_text = \"Región Áncash con Énfasis\"\n",
    "normalized = normalize_text(test_text)\n",
    "print(f\"Original: '{test_text}' -> Normalizado: '{normalized}'\")\n",
    "# Esperado: region ancash con enfasis\n"
   ]
  },
  {
   "cell_type": "code",
   "execution_count": null,
   "id": "e22ad796",
   "metadata": {},
   "outputs": [],
   "source": [
    "print(\"\\n--- Probando extract_query_parameters ---\")\n",
    "queries = [\n",
    "    \"informe de corrupcion en lima 2019\",\n",
    "    \"tienes datos sobre la region cuzco\",\n",
    "    \"junin en 2020\",\n",
    "    \"reportes de ayacucho y apurimac entre 2018 y 2020 sobre obras publicas\",\n",
    "    \"que paso en la municipalidad de huamanga\" # Ejemplo sin año/región clara\n",
    "]\n",
    "\n",
    "for q in queries:\n",
    "    params = extract_query_parameters(q)\n",
    "    print(f\"Query: '{q}'\\n  Params: {params}\")\n"
   ]
  },
  {
   "cell_type": "code",
   "execution_count": null,
   "id": "1df7c8ef",
   "metadata": {},
   "outputs": [],
   "source": [
    "# Celda 4: Probar find_relevant_chunks (con los prints de depuración activados dentro de la función)\n",
    "print(\"\\n--- Probando find_relevant_chunks ---\")\n",
    "\n",
    "# Pregunta 1\n",
    "question1 = \"informe de corrupcion en lima 2019\"\n",
    "print(f\"\\nBuscando para: '{question1}'\")\n",
    "result1 = find_relevant_chunks(question1, all_docs_chunks, max_chunks=5)\n",
    "if result1[\"needs_more_specificity\"]:\n",
    "    print(\"Resultado: Necesita más especificidad.\")\n",
    "elif not result1[\"chunks\"]:\n",
    "    print(f\"Resultado: No se encontraron chunks. Razón: {result1.get('no_data_for_filter') or result1.get('no_data_for_filter_after_score', 'desconocida')}\")\n",
    "    if result1.get(\"params\"): print(f\"  Parámetros usados: {result1.get('params')}\")\n",
    "else:\n",
    "    print(f\"Resultado: Encontrados {len(result1['chunks'])} chunks.\")\n",
    "    # for i, chunk in enumerate(result1[\"chunks\"]):\n",
    "    #     print(f\"  Chunk {i+1} (Informe: {chunk.get('metadata', {}).get('numero_informe', 'N/A')}, Región: {chunk.get('metadata', {}).get('region', 'N/A')}, Año: {chunk.get('metadata', {}).get('year', 'N/A')})\")\n",
    "    #     print(f\"    Texto: {chunk.get('chunk_text', '')[:150]}...\") # Imprime un fragmento\n",
    "\n",
    "# Pregunta 2\n",
    "question2 = \"tienes datos sobre la region cuzco\"\n",
    "print(f\"\\nBuscando para: '{question2}'\")\n",
    "result2 = find_relevant_chunks(question2, all_docs_chunks, max_chunks=5)\n",
    "# ... (mismo manejo de resultados que para question1) ...\n",
    "if result2[\"needs_more_specificity\"]:\n",
    "    print(\"Resultado: Necesita más especificidad.\")\n",
    "elif not result2[\"chunks\"]:\n",
    "    print(f\"Resultado: No se encontraron chunks. Razón: {result2.get('no_data_for_filter') or result2.get('no_data_for_filter_after_score', 'desconocida')}\")\n",
    "    if result2.get(\"params\"): print(f\"  Parámetros usados: {result2.get('params')}\")\n",
    "else:\n",
    "    print(f\"Resultado: Encontrados {len(result2['chunks'])} chunks.\")\n",
    "\n",
    "\n",
    "# Pregunta 3 (para Junín)\n",
    "question3 = \"informes para junin en 2020\"\n",
    "print(f\"\\nBuscando para: '{question3}'\")\n",
    "result3 = find_relevant_chunks(question3, all_docs_chunks, max_chunks=5)\n",
    "# ... (mismo manejo de resultados) ...\n",
    "if result3[\"needs_more_specificity\"]:\n",
    "    print(\"Resultado: Necesita más especificidad.\")\n",
    "elif not result3[\"chunks\"]:\n",
    "    print(f\"Resultado: No se encontraron chunks. Razón: {result3.get('no_data_for_filter') or result3.get('no_data_for_filter_after_score', 'desconocida')}\")\n",
    "    if result3.get(\"params\"): print(f\"  Parámetros usados: {result3.get('params')}\")\n",
    "else:\n",
    "    print(f\"Resultado: Encontrados {len(result3['chunks'])} chunks.\")\n",
    "\n"
   ]
  }
 ],
 "metadata": {
  "language_info": {
   "name": "python"
  }
 },
 "nbformat": 4,
 "nbformat_minor": 5
}
