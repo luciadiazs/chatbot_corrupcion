{
 "cells": [
  {
   "cell_type": "code",
   "execution_count": 1,
   "metadata": {},
   "outputs": [],
   "source": [
    "import os\n",
    "import json"
   ]
  },
  {
   "cell_type": "code",
   "execution_count": 2,
   "metadata": {
    "id": "t5Kkg3iq5vz3"
   },
   "outputs": [
    {
     "name": "stdout",
     "output_type": "stream",
     "text": [
      "Se procesaron 321254 chunks y se guardaron en './processed/processed_data.txt'.\n"
     ]
    }
   ],
   "source": [
    "import os\n",
    "\n",
    "def load_and_chunk_data(chunk_size=800, data_path='./raw/', output_path='./processed/'):\n",
    "    \"\"\"Carga los documentos de texto desde subcarpetas, los divide en chunks y los guarda en un solo archivo.\"\"\"\n",
    "    docs_chunks = []\n",
    "    \n",
    "    # Crear la carpeta de salida si no existe\n",
    "    os.makedirs(output_path, exist_ok=True)\n",
    "    \n",
    "    # Ruta del archivo de salida\n",
    "    output_file_path = os.path.join(output_path, 'processed_data.txt')\n",
    "    \n",
    "    # Abrir el archivo de salida en modo escritura\n",
    "    with open(output_file_path, 'w', encoding='utf-8') as output_file:\n",
    "        # Recorrer las subcarpetas en data_path\n",
    "        for root, dirs, files in os.walk(data_path):\n",
    "            for filename in files:\n",
    "                if filename.endswith(\".txt\"):\n",
    "                    filepath = os.path.join(root, filename)\n",
    "                    try:\n",
    "                        with open(filepath, 'r', encoding='utf-8') as file:\n",
    "                            text = file.read()\n",
    "                        \n",
    "                        # Obtener el título del archivo sin la extensión\n",
    "                        title = os.path.splitext(filename)[0]\n",
    "                        \n",
    "                        # Dividir el texto en chunks\n",
    "                        for i in range(0, len(text), chunk_size):\n",
    "                            chunk = text[i:i+chunk_size]\n",
    "                            docs_chunks.append({\"content\": chunk, \"title\": title})\n",
    "                            \n",
    "                            # Escribir el chunk en el archivo de salida\n",
    "                            output_file.write(f\"Título: {title}\\n\")\n",
    "                            output_file.write(f\"Chunk {i//chunk_size + 1}:\\n\")\n",
    "                            output_file.write(chunk)\n",
    "                            output_file.write(\"\\n\\n\")  # Separador entre chunks\n",
    "                    except Exception as e:\n",
    "                        print(f\"Error processing file {filepath}: {e}\")\n",
    "    return docs_chunks\n",
    "\n",
    "# Ejecución de la función\n",
    "chunks = load_and_chunk_data(chunk_size=800, data_path='./raw/', output_path='./processed/')\n",
    "\n",
    "# Verificación de resultados\n",
    "print(f\"Se procesaron {len(chunks)} chunks y se guardaron en './processed/processed_data.txt'.\")"
   ]
  }
 ],
 "metadata": {
  "colab": {
   "provenance": []
  },
  "kernelspec": {
   "display_name": "base",
   "language": "python",
   "name": "python3"
  },
  "language_info": {
   "codemirror_mode": {
    "name": "ipython",
    "version": 3
   },
   "file_extension": ".py",
   "mimetype": "text/x-python",
   "name": "python",
   "nbconvert_exporter": "python",
   "pygments_lexer": "ipython3",
   "version": "3.12.3"
  }
 },
 "nbformat": 4,
 "nbformat_minor": 0
}
